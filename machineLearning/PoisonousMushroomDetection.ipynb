{
 "cells": [
  {
   "cell_type": "code",
   "execution_count": 204,
   "metadata": {},
   "outputs": [],
   "source": [
    "#This project has 2 parts, the first part involves creating several supervised machine learning models such as linear regression(regularized and non regularized), SVC, \n",
    "#lasso regression,computing the scores of the models to see which is better\n",
    "#I will also use polynomial features to transform some of the data set and then fit a machine learning model to it\n",
    "#The second part involves training a machine learning model to predict if a mushroom is poisonous or not\n",
    "\n",
    "\n",
    "\n",
    "\n",
    "#-------------------------------------------------------PART1------------------------------------------------------#\n",
    "import numpy as np\n",
    "import pandas as pd\n",
    "from sklearn.model_selection import train_test_split\n",
    "\n",
    "#creating my own x and y datasets\n",
    "np.random.seed(0)\n",
    "n = 15\n",
    "x = np.linspace(0,10,n) + np.random.randn(n)/5\n",
    "y = np.sin(x)+x/6 + np.random.randn(n)/10\n",
    "\n",
    "#use train_test_split to split x and y into train and test sets\n",
    "X_train, X_test, y_train, y_test = train_test_split(x, y, random_state=0)\n",
    "\n",
    "# You can use this function to help you visualize the dataset by\n",
    "# plotting a scatterplot of the data points\n",
    "# in the training and test sets.\n",
    "def part1_scatter():\n",
    "    import matplotlib.pyplot as plt\n",
    "    %matplotlib notebook\n",
    "    plt.figure()\n",
    "    plt.scatter(X_train, y_train, label='training data')\n",
    "    plt.scatter(X_test, y_test, label='test data')\n",
    "    plt.legend(loc=4);\n",
    "    \n",
    "    \n"
   ]
  },
  {
   "cell_type": "code",
   "execution_count": null,
   "metadata": {},
   "outputs": [],
   "source": []
  },
  {
   "cell_type": "code",
   "execution_count": 205,
   "metadata": {},
   "outputs": [],
   "source": [
    "x1=x.reshape(-1,1)\n",
    "x1.shape"
   ]
  },
  {
   "cell_type": "code",
   "execution_count": 1,
   "metadata": {},
   "outputs": [],
   "source": [
    "from sklearn.linear_model import LinearRegression\n",
    "from sklearn.preprocessing import PolynomialFeatures"
   ]
  },
  {
   "cell_type": "code",
   "execution_count": 7,
   "metadata": {},
   "outputs": [],
   "source": [
    "#the first task is to fit a polynomial LinearRegression model on the training data X_train \n",
    "#for degrees 1, 3, 6, and 9"
   ]
  },
  {
   "cell_type": "code",
   "execution_count": 60,
   "metadata": {},
   "outputs": [],
   "source": [
    "#degree 1\n",
    "poly1 = PolynomialFeatures(degree=1)\n",
    "x1_poly1 = poly1.fit_transform(x1)\n",
    "X_train, X_test, y_train, y_test = train_test_split(x1_poly1, y, random_state=0)\n",
    "trip = LinearRegression().fit(X_train, y_train)"
   ]
  },
  {
   "cell_type": "code",
   "execution_count": 56,
   "metadata": {},
   "outputs": [
    {
     "data": {
      "text/plain": [
       "(15, 2)"
      ]
     },
     "execution_count": 56,
     "metadata": {},
     "output_type": "execute_result"
    }
   ],
   "source": [
    "x1_poly1.shape"
   ]
  },
  {
   "cell_type": "code",
   "execution_count": 57,
   "metadata": {},
   "outputs": [],
   "source": [
    "#generate 100 numbers between 0 and 10\n",
    "tests = np.linspace(0,10,100)\n",
    "test1=tests.reshape(50,2)"
   ]
  },
  {
   "cell_type": "code",
   "execution_count": 58,
   "metadata": {},
   "outputs": [
    {
     "data": {
      "text/plain": [
       "(50, 2)"
      ]
     },
     "execution_count": 58,
     "metadata": {},
     "output_type": "execute_result"
    }
   ],
   "source": [
    "test1.shape"
   ]
  },
  {
   "cell_type": "code",
   "execution_count": 61,
   "metadata": {},
   "outputs": [
    {
     "data": {
      "text/plain": [
       "LinearRegression(copy_X=True, fit_intercept=True, n_jobs=1, normalize=False)"
      ]
     },
     "execution_count": 61,
     "metadata": {},
     "output_type": "execute_result"
    }
   ],
   "source": [
    "trip #linear regression model"
   ]
  },
  {
   "cell_type": "code",
   "execution_count": 159,
   "metadata": {},
   "outputs": [
    {
     "data": {
      "text/plain": [
       "array([0.26920155, 0.30152425, 0.33384695, 0.36616966, 0.39849236,\n",
       "       0.43081507, 0.46313777, 0.49546047, 0.52778318, 0.56010588,\n",
       "       0.59242858, 0.62475129, 0.65707399, 0.6893967 , 0.7217194 ,\n",
       "       0.7540421 , 0.78636481, 0.81868751, 0.85101021, 0.88333292,\n",
       "       0.91565562, 0.94797832, 0.98030103, 1.01262373, 1.04494644,\n",
       "       1.07726914, 1.10959184, 1.14191455, 1.17423725, 1.20655995,\n",
       "       1.23888266, 1.27120536, 1.30352807, 1.33585077, 1.36817347,\n",
       "       1.40049618, 1.43281888, 1.46514158, 1.49746429, 1.52978699,\n",
       "       1.56210969, 1.5944324 , 1.6267551 , 1.65907781, 1.69140051,\n",
       "       1.72372321, 1.75604592, 1.78836862, 1.82069132, 1.85301403])"
      ]
     },
     "execution_count": 159,
     "metadata": {},
     "output_type": "execute_result"
    }
   ],
   "source": [
    "#use the linear regression model to predict the outcome/result of those 100 numbers\n",
    "n1=trip.predict(test1)\n",
    "n1"
   ]
  },
  {
   "cell_type": "code",
   "execution_count": 69,
   "metadata": {},
   "outputs": [],
   "source": [
    "#degree 3\n",
    "poly3 = PolynomialFeatures(degree=3)\n",
    "x1_poly3 = poly3.fit_transform(x1)\n",
    "X_train, X_test, y_train, y_test = train_test_split(x1_poly3, y, random_state=0)\n",
    "trips = LinearRegression().fit(X_train, y_train)"
   ]
  },
  {
   "cell_type": "code",
   "execution_count": 65,
   "metadata": {},
   "outputs": [
    {
     "data": {
      "text/plain": [
       "(15, 4)"
      ]
     },
     "execution_count": 65,
     "metadata": {},
     "output_type": "execute_result"
    }
   ],
   "source": [
    "x1_poly3.shape"
   ]
  },
  {
   "cell_type": "code",
   "execution_count": 66,
   "metadata": {},
   "outputs": [],
   "source": [
    "#generate numbers and reshape the data to match x1_poly3.shape\n",
    "test3 = np.linspace(0,10,100)\n",
    "test3=test3.reshape(25,4)"
   ]
  },
  {
   "cell_type": "code",
   "execution_count": 70,
   "metadata": {},
   "outputs": [
    {
     "data": {
      "text/plain": [
       "LinearRegression(copy_X=True, fit_intercept=True, n_jobs=1, normalize=False)"
      ]
     },
     "execution_count": 70,
     "metadata": {},
     "output_type": "execute_result"
    }
   ],
   "source": [
    "trips"
   ]
  },
  {
   "cell_type": "code",
   "execution_count": 71,
   "metadata": {},
   "outputs": [
    {
     "data": {
      "text/plain": [
       "(25, 4)"
      ]
     },
     "execution_count": 71,
     "metadata": {},
     "output_type": "execute_result"
    }
   ],
   "source": [
    "test3.shape"
   ]
  },
  {
   "cell_type": "code",
   "execution_count": 160,
   "metadata": {},
   "outputs": [
    {
     "data": {
      "text/plain": [
       "array([ 1.18821982,  0.94624845,  0.70427709,  0.46230573,  0.22033436,\n",
       "       -0.021637  , -0.26360836, -0.50557973, -0.74755109, -0.98952245,\n",
       "       -1.23149382, -1.47346518, -1.71543654, -1.95740791, -2.19937927,\n",
       "       -2.44135063, -2.683322  , -2.92529336, -3.16726472, -3.40923608,\n",
       "       -3.65120745, -3.89317881, -4.13515017, -4.37712154, -4.6190929 ])"
      ]
     },
     "execution_count": 160,
     "metadata": {},
     "output_type": "execute_result"
    }
   ],
   "source": [
    "#use the linear regression model to predict the outcome/result of those 100 numbers\n",
    "n2=trips.predict(test3)\n",
    "n2"
   ]
  },
  {
   "cell_type": "code",
   "execution_count": 137,
   "metadata": {},
   "outputs": [],
   "source": [
    "#degree 6\n",
    "poly6 = PolynomialFeatures(degree=6)\n",
    "x1_poly6 = poly6.fit_transform(x1)\n",
    "X_train, X_test, y_train, y_test = train_test_split(x1_poly6, y, random_state=0)\n",
    "tripss = LinearRegression().fit(X_train, y_train)"
   ]
  },
  {
   "cell_type": "code",
   "execution_count": 80,
   "metadata": {},
   "outputs": [
    {
     "data": {
      "text/plain": [
       "LinearRegression(copy_X=True, fit_intercept=True, n_jobs=1, normalize=False)"
      ]
     },
     "execution_count": 80,
     "metadata": {},
     "output_type": "execute_result"
    }
   ],
   "source": [
    "tripss"
   ]
  },
  {
   "cell_type": "code",
   "execution_count": 165,
   "metadata": {},
   "outputs": [],
   "source": [
    "#generate numbers and reshape the data x1_poly6.shape\n",
    "test4 = np.linspace(0,10,105)\n",
    "test4 =test4.reshape(15,7)"
   ]
  },
  {
   "cell_type": "code",
   "execution_count": 166,
   "metadata": {},
   "outputs": [
    {
     "data": {
      "text/plain": [
       "(15, 7)"
      ]
     },
     "execution_count": 166,
     "metadata": {},
     "output_type": "execute_result"
    }
   ],
   "source": [
    "test4.shape"
   ]
  },
  {
   "cell_type": "code",
   "execution_count": 140,
   "metadata": {},
   "outputs": [
    {
     "data": {
      "text/plain": [
       "LinearRegression(copy_X=True, fit_intercept=True, n_jobs=1, normalize=False)"
      ]
     },
     "execution_count": 140,
     "metadata": {},
     "output_type": "execute_result"
    }
   ],
   "source": [
    "tripss"
   ]
  },
  {
   "cell_type": "code",
   "execution_count": 167,
   "metadata": {},
   "outputs": [
    {
     "data": {
      "text/plain": [
       "array([-0.13627764,  0.77265531,  1.68158826,  2.59052121,  3.49945416,\n",
       "        4.40838711,  5.31732006,  6.22625301,  7.13518596,  8.04411891,\n",
       "        8.95305186,  9.86198481, 10.77091776, 11.67985071, 12.58878366])"
      ]
     },
     "execution_count": 167,
     "metadata": {},
     "output_type": "execute_result"
    }
   ],
   "source": [
    "#use the linear regression model to predict the outcome/result of those 100 numbers\n",
    "n3=tripss.predict(test4)\n",
    "n3\n"
   ]
  },
  {
   "cell_type": "code",
   "execution_count": 143,
   "metadata": {},
   "outputs": [
    {
     "data": {
      "text/plain": [
       "(11, 7)"
      ]
     },
     "execution_count": 143,
     "metadata": {},
     "output_type": "execute_result"
    }
   ],
   "source": [
    "X_train.shape"
   ]
  },
  {
   "cell_type": "code",
   "execution_count": 149,
   "metadata": {},
   "outputs": [],
   "source": [
    "poly9 = PolynomialFeatures(degree=9)\n",
    "x1_poly9 = poly9.fit_transform(x1)\n",
    "X_train, X_test, y_train, y_test = train_test_split(x1_poly9, y, random_state=0)\n",
    "linreg = LinearRegression().fit(X_train, y_train)"
   ]
  },
  {
   "cell_type": "code",
   "execution_count": 150,
   "metadata": {},
   "outputs": [
    {
     "data": {
      "text/plain": [
       "LinearRegression(copy_X=True, fit_intercept=True, n_jobs=1, normalize=False)"
      ]
     },
     "execution_count": 150,
     "metadata": {},
     "output_type": "execute_result"
    }
   ],
   "source": [
    "linreg"
   ]
  },
  {
   "cell_type": "code",
   "execution_count": 151,
   "metadata": {},
   "outputs": [
    {
     "data": {
      "text/plain": [
       "(15, 10)"
      ]
     },
     "execution_count": 151,
     "metadata": {},
     "output_type": "execute_result"
    }
   ],
   "source": [
    "x1_poly9.shape"
   ]
  },
  {
   "cell_type": "code",
   "execution_count": 154,
   "metadata": {},
   "outputs": [],
   "source": [
    "#generate numbers and reshape the data x1_poly9.shape\n",
    "test9 = np.linspace(0,10,100)\n",
    "test9 =test6.reshape(10,10)"
   ]
  },
  {
   "cell_type": "code",
   "execution_count": 168,
   "metadata": {},
   "outputs": [
    {
     "data": {
      "text/plain": [
       "array([ 7.05917170e+00,  3.31394770e-02, -6.99289275e+00, -1.40189250e+01,\n",
       "       -2.10449572e+01, -2.80709894e+01, -3.50970216e+01, -4.21230539e+01,\n",
       "       -4.91490861e+01, -5.61751183e+01])"
      ]
     },
     "execution_count": 168,
     "metadata": {},
     "output_type": "execute_result"
    }
   ],
   "source": [
    "#use the linear regression model to predict the outcome/result of those 100 numbers\n",
    "n4=linreg.predict(test9)\n",
    "n4"
   ]
  },
  {
   "cell_type": "code",
   "execution_count": 174,
   "metadata": {},
   "outputs": [],
   "source": [
    "import numpy as np"
   ]
  },
  {
   "cell_type": "code",
   "execution_count": 178,
   "metadata": {},
   "outputs": [
    {
     "data": {
      "text/plain": [
       "array([array([0.26920155, 0.30152425, 0.33384695, 0.36616966, 0.39849236,\n",
       "       0.43081507, 0.46313777, 0.49546047, 0.52778318, 0.56010588,\n",
       "       0.59242858, 0.62475129, 0.65707399, 0.6893967 , 0.7217194 ,\n",
       "       0.7540421 , 0.78636481, 0.81868751, 0.85101021, 0.88333292,\n",
       "       0.91565562, 0.94797832, 0.98030103, 1.01262373, 1.04494644,\n",
       "       1.07726914, 1.10959184, 1.14191455, 1.17423725, 1.20655995,\n",
       "       1.23888266, 1.27120536, 1.30352807, 1.33585077, 1.36817347,\n",
       "       1.40049618, 1.43281888, 1.46514158, 1.49746429, 1.52978699,\n",
       "       1.56210969, 1.5944324 , 1.6267551 , 1.65907781, 1.69140051,\n",
       "       1.72372321, 1.75604592, 1.78836862, 1.82069132, 1.85301403]),\n",
       "       array([ 1.18821982,  0.94624845,  0.70427709,  0.46230573,  0.22033436,\n",
       "       -0.021637  , -0.26360836, -0.50557973, -0.74755109, -0.98952245,\n",
       "       -1.23149382, -1.47346518, -1.71543654, -1.95740791, -2.19937927,\n",
       "       -2.44135063, -2.683322  , -2.92529336, -3.16726472, -3.40923608,\n",
       "       -3.65120745, -3.89317881, -4.13515017, -4.37712154, -4.6190929 ]),\n",
       "       array([-0.13627764,  0.77265531,  1.68158826,  2.59052121,  3.49945416,\n",
       "        4.40838711,  5.31732006,  6.22625301,  7.13518596,  8.04411891,\n",
       "        8.95305186,  9.86198481, 10.77091776, 11.67985071, 12.58878366]),\n",
       "       array([ 7.05917170e+00,  3.31394770e-02, -6.99289275e+00, -1.40189250e+01,\n",
       "       -2.10449572e+01, -2.80709894e+01, -3.50970216e+01, -4.21230539e+01,\n",
       "       -4.91490861e+01, -5.61751183e+01])], dtype=object)"
      ]
     },
     "execution_count": 178,
     "metadata": {},
     "output_type": "execute_result"
    }
   ],
   "source": [
    "#store all the predicted values in an array\n",
    "np.array([n1,n2,n3,n4])"
   ]
  },
  {
   "cell_type": "code",
   "execution_count": 201,
   "metadata": {},
   "outputs": [],
   "source": [
    "#Write a function that fits a polynomial LinearRegression model on the training data X_train for degrees 0 through 9. \n",
    "#For each model compute the  R2 (coefficient of determination) regression score on the training data as well as the the test data, \n",
    "#and return both of these arrays in a tuple.\n",
    "def answer_two():\n",
    "    from sklearn.linear_model import LinearRegression\n",
    "    from sklearn.preprocessing import PolynomialFeatures\n",
    "    poly1 = PolynomialFeatures(degree=1)\n",
    "    x1_poly1 = poly1.fit_transform(x1)\n",
    "    X_train1, X_test1, y_train1, y_test1 = train_test_split(x1_poly1, y, random_state=0)\n",
    "    linreg1 = LinearRegression().fit(X_train1, y_train1)\n",
    "    linreg1.score(X_train1,y_train1)\n",
    "    linreg1.score(X_test1,y_test1)\n",
    "    \n",
    "    poly2 = PolynomialFeatures(degree=2)\n",
    "    x1_poly2 = poly2.fit_transform(x1)\n",
    "    X_train2, X_test2, y_train2, y_test2 = train_test_split(x1_poly2, y, random_state=0)\n",
    "    linreg2 = LinearRegression().fit(X_train2, y_train2)\n",
    "    linreg2.score(X_train2,y_train2)\n",
    "    linreg2.score(X_test2,y_test2)\n",
    "    \n",
    "    poly3 = PolynomialFeatures(degree=3)\n",
    "    x1_poly3 = poly3.fit_transform(x1)\n",
    "    X_train3, X_test3, y_train3, y_test3 = train_test_split(x1_poly3, y, random_state=0)\n",
    "    linreg3 = LinearRegression().fit(X_train3, y_train3)\n",
    "    linreg3.score(X_train3,y_train3)\n",
    "    linreg3.score(X_test3,y_test3)\n",
    "    \n",
    "    poly4 = PolynomialFeatures(degree=4)\n",
    "    x1_poly4 = poly4.fit_transform(x1)\n",
    "    X_train4, X_test4, y_train4, y_test4 = train_test_split(x1_poly4, y, random_state=0)\n",
    "    linreg4 = LinearRegression().fit(X_train4, y_train4)\n",
    "    linreg4.score(X_train4,y_train4)\n",
    "    linreg4.score(X_test4,y_test4)\n",
    "    \n",
    "    poly5 = PolynomialFeatures(degree=5)\n",
    "    x1_poly5 = poly5.fit_transform(x1)\n",
    "    X_train5, X_test5, y_train5, y_test5 = train_test_split(x1_poly5, y, random_state=0)\n",
    "    linreg5 = LinearRegression().fit(X_train5, y_train5)\n",
    "    linreg5.score(X_train5,y_train5)\n",
    "    linreg5.score(X_test5,y_test5)\n",
    "    \n",
    "    \n",
    "    poly6 = PolynomialFeatures(degree=6)\n",
    "    x1_poly6 = poly6.fit_transform(x1)\n",
    "    X_train6, X_test6, y_train6, y_test6 = train_test_split(x1_poly6, y, random_state=0)\n",
    "    linreg6 = LinearRegression().fit(X_train6, y_train6)\n",
    "    linreg6.score(X_train6,y_train6)\n",
    "    linreg6.score(X_test6,y_test6)\n",
    "    \n",
    "    \n",
    "    poly7 = PolynomialFeatures(degree=7)\n",
    "    x1_poly7 = poly7.fit_transform(x1)\n",
    "    X_train7, X_test7, y_train7, y_test7 = train_test_split(x1_poly7, y, random_state=0)\n",
    "    linreg7 = LinearRegression().fit(X_train7, y_train7)\n",
    "    linreg7.score(X_train7,y_train7)\n",
    "    linreg7.score(X_test7,y_test7)\n",
    "    \n",
    "    \n",
    "    poly9 = PolynomialFeatures(degree=9)\n",
    "    x1_poly9 = poly9.fit_transform(x1)\n",
    "    X_train9, X_test9, y_train9, y_test9 = train_test_split(x1_poly9, y, random_state=0)\n",
    "    linreg9 = LinearRegression().fit(X_train9, y_train9)\n",
    "    linreg9.score(X_train9,y_train9)\n",
    "    linreg9.score(X_test9,y_test9)\n",
    "    \n",
    "    r2_train = np.array([linreg1.score(X_train1,y_train1),linreg2.score(X_train2,y_train2),\n",
    "                         linreg3.score(X_train3,y_train3),linreg4.score(X_train4,y_train4),\n",
    "                        linreg5.score(X_train5,y_train5),linreg6.score(X_train6,y_train6),\n",
    "                        linreg7.score(X_test7,y_test7),linreg9.score(X_train9,y_train9)])\n",
    "    r2_test = np.array([linreg1.score(X_test1,y_test1),linreg2.score(X_test2,y_test2),\n",
    "                        linreg3.score(X_test3,y_test3),linreg4.score(X_test4,y_test4),\n",
    "                        linreg5.score(X_test5,y_test5),linreg6.score(X_test6,y_test6),\n",
    "                        linreg7.score(X_test7,y_test7),linreg9.score(X_test9,y_test9)])\n",
    "    tup = (r2_train, r2_test)\n",
    "    \n",
    "    \n",
    "    \n",
    "    return tup"
   ]
  },
  {
   "cell_type": "code",
   "execution_count": 222,
   "metadata": {},
   "outputs": [],
   "source": [
    "#IGNORE THIS PART\n",
    "from sklearn.metrics.regression import r2_score\n",
    "poly1 = PolynomialFeatures(degree=1)\n",
    "x1_poly1 = poly1.fit_transform(x1)\n",
    "X_train1, X_test1, y_train1, y_test1 = train_test_split(x1_poly1, y, random_state=0)\n",
    "linreg1 = LinearRegression().fit(X_train1, y_train1)\n",
    "t=linreg1.score(X_train1,y_train1)\n",
    "i=linreg1.score(X_test1,y_test1)"
   ]
  },
  {
   "cell_type": "code",
   "execution_count": 217,
   "metadata": {},
   "outputs": [
    {
     "data": {
      "text/plain": [
       "0.4292457781234663"
      ]
     },
     "execution_count": 217,
     "metadata": {},
     "output_type": "execute_result"
    }
   ],
   "source": [
    "#IGNORE THIS PART\n",
    "r2_score= linreg1.score(X_train1,y_train1)\n",
    "r2_score"
   ]
  },
  {
   "cell_type": "code",
   "execution_count": 226,
   "metadata": {},
   "outputs": [
    {
     "data": {
      "text/plain": [
       "-0.45237104233936676"
      ]
     },
     "execution_count": 226,
     "metadata": {},
     "output_type": "execute_result"
    }
   ],
   "source": [
    "#IGNORE THIS PART\n",
    "p=linreg1.predict(X_test1)\n",
    "i=linreg1.score(X_test1,y_test1)\n",
    "p\n",
    "i"
   ]
  },
  {
   "cell_type": "code",
   "execution_count": 195,
   "metadata": {},
   "outputs": [],
   "source": [
    "#IGNORE THIS PART\n",
    "tu = (t,i)"
   ]
  },
  {
   "cell_type": "code",
   "execution_count": 196,
   "metadata": {},
   "outputs": [
    {
     "data": {
      "text/plain": [
       "(0.4292457781234663, -0.45237104233936676)"
      ]
     },
     "execution_count": 196,
     "metadata": {},
     "output_type": "execute_result"
    }
   ],
   "source": [
    "#IGNORE THIS PART\n",
    "tu"
   ]
  },
  {
   "cell_type": "code",
   "execution_count": 202,
   "metadata": {},
   "outputs": [
    {
     "data": {
      "text/plain": [
       "(array([0.42924578, 0.4510998 , 0.58719954, 0.91941945, 0.97578641,\n",
       "        0.99018233, 0.92021504, 0.99803706]),\n",
       " array([-0.45237104, -0.06856984,  0.00533105,  0.73004943,  0.87708301,\n",
       "         0.9214094 ,  0.92021504, -0.64524777]))"
      ]
     },
     "execution_count": 202,
     "metadata": {},
     "output_type": "execute_result"
    }
   ],
   "source": [
    "answer_two()"
   ]
  },
  {
   "cell_type": "code",
   "execution_count": null,
   "metadata": {},
   "outputs": [],
   "source": [
    "#ans = #use series.."
   ]
  },
  {
   "cell_type": "code",
   "execution_count": 230,
   "metadata": {},
   "outputs": [],
   "source": [
    "#For this question, train two models: a non-regularized LinearRegression model (default parameters) \n",
    "#and a regularized Lasso Regression model (with parameters alpha=0.01, max_iter=10000) both on polynomial features of degree 12. \n",
    "#Return the  R2  score for both the LinearRegression and Lasso model's test sets.\n",
    "def answer_four():\n",
    "    from sklearn.preprocessing import PolynomialFeatures\n",
    "    from sklearn.linear_model import Lasso, LinearRegression\n",
    "    from sklearn.metrics.regression import r2_score\n",
    "    poly12 = PolynomialFeatures(degree=12)\n",
    "    x1_poly12 = poly1.fit_transform(x1)\n",
    "    X_train, X_test, y_train, y_test = train_test_split(x1_poly12, y,random_state = 0)\n",
    "    check = LinearRegression().fit(X_train, y_train)\n",
    "    linlass = Lasso(alpha=0.01, max_iter = 10000).fit(X_train, y_train)\n",
    "    r2_scorelin = check.score(X_test, y_test)\n",
    "    r2_scorelass = linlass.score(X_test,y_test)\n",
    "    scores = (r2_scorelin,r2_scorelass)\n",
    "    return scores"
   ]
  },
  {
   "cell_type": "code",
   "execution_count": 397,
   "metadata": {},
   "outputs": [
    {
     "data": {
      "text/plain": [
       "array([0.38452701, 0.97004112, 1.16374477, 1.29369313])"
      ]
     },
     "execution_count": 397,
     "metadata": {},
     "output_type": "execute_result"
    }
   ],
   "source": [
    "#IGNORE THIS PART\n",
    "trains = linlass.predict(X_test)\n",
    "trains"
   ]
  },
  {
   "cell_type": "code",
   "execution_count": 398,
   "metadata": {},
   "outputs": [
    {
     "data": {
      "text/plain": [
       "-0.4503948042064918"
      ]
     },
     "execution_count": 398,
     "metadata": {},
     "output_type": "execute_result"
    }
   ],
   "source": [
    "#IGNORE THIS PART\n",
    "r2_score(y_test,trains)"
   ]
  },
  {
   "cell_type": "code",
   "execution_count": 399,
   "metadata": {},
   "outputs": [
    {
     "data": {
      "text/plain": [
       "(-0.45237104233936676, -0.4503948042064918)"
      ]
     },
     "execution_count": 399,
     "metadata": {},
     "output_type": "execute_result"
    }
   ],
   "source": [
    "answer_four()"
   ]
  },
  {
   "cell_type": "code",
   "execution_count": null,
   "metadata": {},
   "outputs": [],
   "source": [
    "#----------------------------------------------------PART2-----------------------------------------------------------#"
   ]
  },
  {
   "cell_type": "code",
   "execution_count": null,
   "metadata": {},
   "outputs": [],
   "source": [
    "#For this section we will be working with the UCI Mushroom Data Set stored in mushrooms.csv. \n",
    "#The data will be used to train a model to predict whether or not a mushroom is poisonous. \n",
    "#"
   ]
  },
  {
   "cell_type": "code",
   "execution_count": 2,
   "metadata": {},
   "outputs": [],
   "source": [
    "import pandas as pd\n",
    "import numpy as np\n",
    "from sklearn.model_selection import train_test_split\n",
    "\n",
    "\n",
    "mush_df = pd.read_csv('mushrooms.csv')\n",
    "mush_df2 = pd.get_dummies(mush_df) #converts categorical data to numeric or indicators\n",
    "\n",
    "X_mush = mush_df2.iloc[:,2:]\n",
    "y_mush = mush_df2.iloc[:,1]\n",
    "\n",
    "\n",
    "X_train22, X_test22, y_train22, y_test22 = train_test_split(X_mush, y_mush, random_state=0)\n",
    "\n",
    "# For performance reasons in Questions 6 and 7, we will create a smaller version of the\n",
    "# entire mushroom dataset for use in those questions.  For simplicity we'll just re-use\n",
    "# the 25% test split created above as the representative subset.\n",
    "#\n",
    "# Use the variables X_subset, y_subset for Questions 6 and 7.\n",
    "X_subset = X_test22\n",
    "y_subset = y_test22"
   ]
  },
  {
   "cell_type": "code",
   "execution_count": 3,
   "metadata": {},
   "outputs": [
    {
     "data": {
      "text/html": [
       "<div>\n",
       "<style scoped>\n",
       "    .dataframe tbody tr th:only-of-type {\n",
       "        vertical-align: middle;\n",
       "    }\n",
       "\n",
       "    .dataframe tbody tr th {\n",
       "        vertical-align: top;\n",
       "    }\n",
       "\n",
       "    .dataframe thead th {\n",
       "        text-align: right;\n",
       "    }\n",
       "</style>\n",
       "<table border=\"1\" class=\"dataframe\">\n",
       "  <thead>\n",
       "    <tr style=\"text-align: right;\">\n",
       "      <th></th>\n",
       "      <th>class_e</th>\n",
       "      <th>class_p</th>\n",
       "      <th>cap-shape_b</th>\n",
       "      <th>cap-shape_c</th>\n",
       "      <th>cap-shape_f</th>\n",
       "      <th>cap-shape_k</th>\n",
       "      <th>cap-shape_s</th>\n",
       "      <th>cap-shape_x</th>\n",
       "      <th>cap-surface_f</th>\n",
       "      <th>cap-surface_g</th>\n",
       "      <th>...</th>\n",
       "      <th>population_s</th>\n",
       "      <th>population_v</th>\n",
       "      <th>population_y</th>\n",
       "      <th>habitat_d</th>\n",
       "      <th>habitat_g</th>\n",
       "      <th>habitat_l</th>\n",
       "      <th>habitat_m</th>\n",
       "      <th>habitat_p</th>\n",
       "      <th>habitat_u</th>\n",
       "      <th>habitat_w</th>\n",
       "    </tr>\n",
       "  </thead>\n",
       "  <tbody>\n",
       "    <tr>\n",
       "      <th>0</th>\n",
       "      <td>0</td>\n",
       "      <td>1</td>\n",
       "      <td>0</td>\n",
       "      <td>0</td>\n",
       "      <td>0</td>\n",
       "      <td>0</td>\n",
       "      <td>0</td>\n",
       "      <td>1</td>\n",
       "      <td>0</td>\n",
       "      <td>0</td>\n",
       "      <td>...</td>\n",
       "      <td>1</td>\n",
       "      <td>0</td>\n",
       "      <td>0</td>\n",
       "      <td>0</td>\n",
       "      <td>0</td>\n",
       "      <td>0</td>\n",
       "      <td>0</td>\n",
       "      <td>0</td>\n",
       "      <td>1</td>\n",
       "      <td>0</td>\n",
       "    </tr>\n",
       "    <tr>\n",
       "      <th>1</th>\n",
       "      <td>1</td>\n",
       "      <td>0</td>\n",
       "      <td>0</td>\n",
       "      <td>0</td>\n",
       "      <td>0</td>\n",
       "      <td>0</td>\n",
       "      <td>0</td>\n",
       "      <td>1</td>\n",
       "      <td>0</td>\n",
       "      <td>0</td>\n",
       "      <td>...</td>\n",
       "      <td>0</td>\n",
       "      <td>0</td>\n",
       "      <td>0</td>\n",
       "      <td>0</td>\n",
       "      <td>1</td>\n",
       "      <td>0</td>\n",
       "      <td>0</td>\n",
       "      <td>0</td>\n",
       "      <td>0</td>\n",
       "      <td>0</td>\n",
       "    </tr>\n",
       "    <tr>\n",
       "      <th>2</th>\n",
       "      <td>1</td>\n",
       "      <td>0</td>\n",
       "      <td>1</td>\n",
       "      <td>0</td>\n",
       "      <td>0</td>\n",
       "      <td>0</td>\n",
       "      <td>0</td>\n",
       "      <td>0</td>\n",
       "      <td>0</td>\n",
       "      <td>0</td>\n",
       "      <td>...</td>\n",
       "      <td>0</td>\n",
       "      <td>0</td>\n",
       "      <td>0</td>\n",
       "      <td>0</td>\n",
       "      <td>0</td>\n",
       "      <td>0</td>\n",
       "      <td>1</td>\n",
       "      <td>0</td>\n",
       "      <td>0</td>\n",
       "      <td>0</td>\n",
       "    </tr>\n",
       "    <tr>\n",
       "      <th>3</th>\n",
       "      <td>0</td>\n",
       "      <td>1</td>\n",
       "      <td>0</td>\n",
       "      <td>0</td>\n",
       "      <td>0</td>\n",
       "      <td>0</td>\n",
       "      <td>0</td>\n",
       "      <td>1</td>\n",
       "      <td>0</td>\n",
       "      <td>0</td>\n",
       "      <td>...</td>\n",
       "      <td>1</td>\n",
       "      <td>0</td>\n",
       "      <td>0</td>\n",
       "      <td>0</td>\n",
       "      <td>0</td>\n",
       "      <td>0</td>\n",
       "      <td>0</td>\n",
       "      <td>0</td>\n",
       "      <td>1</td>\n",
       "      <td>0</td>\n",
       "    </tr>\n",
       "    <tr>\n",
       "      <th>4</th>\n",
       "      <td>1</td>\n",
       "      <td>0</td>\n",
       "      <td>0</td>\n",
       "      <td>0</td>\n",
       "      <td>0</td>\n",
       "      <td>0</td>\n",
       "      <td>0</td>\n",
       "      <td>1</td>\n",
       "      <td>0</td>\n",
       "      <td>0</td>\n",
       "      <td>...</td>\n",
       "      <td>0</td>\n",
       "      <td>0</td>\n",
       "      <td>0</td>\n",
       "      <td>0</td>\n",
       "      <td>1</td>\n",
       "      <td>0</td>\n",
       "      <td>0</td>\n",
       "      <td>0</td>\n",
       "      <td>0</td>\n",
       "      <td>0</td>\n",
       "    </tr>\n",
       "  </tbody>\n",
       "</table>\n",
       "<p>5 rows × 119 columns</p>\n",
       "</div>"
      ],
      "text/plain": [
       "   class_e  class_p  cap-shape_b  cap-shape_c  cap-shape_f  cap-shape_k  \\\n",
       "0        0        1            0            0            0            0   \n",
       "1        1        0            0            0            0            0   \n",
       "2        1        0            1            0            0            0   \n",
       "3        0        1            0            0            0            0   \n",
       "4        1        0            0            0            0            0   \n",
       "\n",
       "   cap-shape_s  cap-shape_x  cap-surface_f  cap-surface_g    ...      \\\n",
       "0            0            1              0              0    ...       \n",
       "1            0            1              0              0    ...       \n",
       "2            0            0              0              0    ...       \n",
       "3            0            1              0              0    ...       \n",
       "4            0            1              0              0    ...       \n",
       "\n",
       "   population_s  population_v  population_y  habitat_d  habitat_g  habitat_l  \\\n",
       "0             1             0             0          0          0          0   \n",
       "1             0             0             0          0          1          0   \n",
       "2             0             0             0          0          0          0   \n",
       "3             1             0             0          0          0          0   \n",
       "4             0             0             0          0          1          0   \n",
       "\n",
       "   habitat_m  habitat_p  habitat_u  habitat_w  \n",
       "0          0          0          1          0  \n",
       "1          0          0          0          0  \n",
       "2          1          0          0          0  \n",
       "3          0          0          1          0  \n",
       "4          0          0          0          0  \n",
       "\n",
       "[5 rows x 119 columns]"
      ]
     },
     "execution_count": 3,
     "metadata": {},
     "output_type": "execute_result"
    }
   ],
   "source": [
    "mush_df2.head()"
   ]
  },
  {
   "cell_type": "code",
   "execution_count": 246,
   "metadata": {},
   "outputs": [
    {
     "data": {
      "text/html": [
       "<div>\n",
       "<style scoped>\n",
       "    .dataframe tbody tr th:only-of-type {\n",
       "        vertical-align: middle;\n",
       "    }\n",
       "\n",
       "    .dataframe tbody tr th {\n",
       "        vertical-align: top;\n",
       "    }\n",
       "\n",
       "    .dataframe thead th {\n",
       "        text-align: right;\n",
       "    }\n",
       "</style>\n",
       "<table border=\"1\" class=\"dataframe\">\n",
       "  <thead>\n",
       "    <tr style=\"text-align: right;\">\n",
       "      <th></th>\n",
       "      <th>cap-shape_b</th>\n",
       "      <th>cap-shape_c</th>\n",
       "      <th>cap-shape_f</th>\n",
       "      <th>cap-shape_k</th>\n",
       "      <th>cap-shape_s</th>\n",
       "      <th>cap-shape_x</th>\n",
       "      <th>cap-surface_f</th>\n",
       "      <th>cap-surface_g</th>\n",
       "      <th>cap-surface_s</th>\n",
       "      <th>cap-surface_y</th>\n",
       "      <th>...</th>\n",
       "      <th>population_s</th>\n",
       "      <th>population_v</th>\n",
       "      <th>population_y</th>\n",
       "      <th>habitat_d</th>\n",
       "      <th>habitat_g</th>\n",
       "      <th>habitat_l</th>\n",
       "      <th>habitat_m</th>\n",
       "      <th>habitat_p</th>\n",
       "      <th>habitat_u</th>\n",
       "      <th>habitat_w</th>\n",
       "    </tr>\n",
       "  </thead>\n",
       "  <tbody>\n",
       "    <tr>\n",
       "      <th>0</th>\n",
       "      <td>0</td>\n",
       "      <td>0</td>\n",
       "      <td>0</td>\n",
       "      <td>0</td>\n",
       "      <td>0</td>\n",
       "      <td>1</td>\n",
       "      <td>0</td>\n",
       "      <td>0</td>\n",
       "      <td>1</td>\n",
       "      <td>0</td>\n",
       "      <td>...</td>\n",
       "      <td>1</td>\n",
       "      <td>0</td>\n",
       "      <td>0</td>\n",
       "      <td>0</td>\n",
       "      <td>0</td>\n",
       "      <td>0</td>\n",
       "      <td>0</td>\n",
       "      <td>0</td>\n",
       "      <td>1</td>\n",
       "      <td>0</td>\n",
       "    </tr>\n",
       "    <tr>\n",
       "      <th>1</th>\n",
       "      <td>0</td>\n",
       "      <td>0</td>\n",
       "      <td>0</td>\n",
       "      <td>0</td>\n",
       "      <td>0</td>\n",
       "      <td>1</td>\n",
       "      <td>0</td>\n",
       "      <td>0</td>\n",
       "      <td>1</td>\n",
       "      <td>0</td>\n",
       "      <td>...</td>\n",
       "      <td>0</td>\n",
       "      <td>0</td>\n",
       "      <td>0</td>\n",
       "      <td>0</td>\n",
       "      <td>1</td>\n",
       "      <td>0</td>\n",
       "      <td>0</td>\n",
       "      <td>0</td>\n",
       "      <td>0</td>\n",
       "      <td>0</td>\n",
       "    </tr>\n",
       "    <tr>\n",
       "      <th>2</th>\n",
       "      <td>1</td>\n",
       "      <td>0</td>\n",
       "      <td>0</td>\n",
       "      <td>0</td>\n",
       "      <td>0</td>\n",
       "      <td>0</td>\n",
       "      <td>0</td>\n",
       "      <td>0</td>\n",
       "      <td>1</td>\n",
       "      <td>0</td>\n",
       "      <td>...</td>\n",
       "      <td>0</td>\n",
       "      <td>0</td>\n",
       "      <td>0</td>\n",
       "      <td>0</td>\n",
       "      <td>0</td>\n",
       "      <td>0</td>\n",
       "      <td>1</td>\n",
       "      <td>0</td>\n",
       "      <td>0</td>\n",
       "      <td>0</td>\n",
       "    </tr>\n",
       "    <tr>\n",
       "      <th>3</th>\n",
       "      <td>0</td>\n",
       "      <td>0</td>\n",
       "      <td>0</td>\n",
       "      <td>0</td>\n",
       "      <td>0</td>\n",
       "      <td>1</td>\n",
       "      <td>0</td>\n",
       "      <td>0</td>\n",
       "      <td>0</td>\n",
       "      <td>1</td>\n",
       "      <td>...</td>\n",
       "      <td>1</td>\n",
       "      <td>0</td>\n",
       "      <td>0</td>\n",
       "      <td>0</td>\n",
       "      <td>0</td>\n",
       "      <td>0</td>\n",
       "      <td>0</td>\n",
       "      <td>0</td>\n",
       "      <td>1</td>\n",
       "      <td>0</td>\n",
       "    </tr>\n",
       "    <tr>\n",
       "      <th>4</th>\n",
       "      <td>0</td>\n",
       "      <td>0</td>\n",
       "      <td>0</td>\n",
       "      <td>0</td>\n",
       "      <td>0</td>\n",
       "      <td>1</td>\n",
       "      <td>0</td>\n",
       "      <td>0</td>\n",
       "      <td>1</td>\n",
       "      <td>0</td>\n",
       "      <td>...</td>\n",
       "      <td>0</td>\n",
       "      <td>0</td>\n",
       "      <td>0</td>\n",
       "      <td>0</td>\n",
       "      <td>1</td>\n",
       "      <td>0</td>\n",
       "      <td>0</td>\n",
       "      <td>0</td>\n",
       "      <td>0</td>\n",
       "      <td>0</td>\n",
       "    </tr>\n",
       "  </tbody>\n",
       "</table>\n",
       "<p>5 rows × 117 columns</p>\n",
       "</div>"
      ],
      "text/plain": [
       "   cap-shape_b  cap-shape_c  cap-shape_f  cap-shape_k  cap-shape_s  \\\n",
       "0            0            0            0            0            0   \n",
       "1            0            0            0            0            0   \n",
       "2            1            0            0            0            0   \n",
       "3            0            0            0            0            0   \n",
       "4            0            0            0            0            0   \n",
       "\n",
       "   cap-shape_x  cap-surface_f  cap-surface_g  cap-surface_s  cap-surface_y  \\\n",
       "0            1              0              0              1              0   \n",
       "1            1              0              0              1              0   \n",
       "2            0              0              0              1              0   \n",
       "3            1              0              0              0              1   \n",
       "4            1              0              0              1              0   \n",
       "\n",
       "     ...      population_s  population_v  population_y  habitat_d  habitat_g  \\\n",
       "0    ...                 1             0             0          0          0   \n",
       "1    ...                 0             0             0          0          1   \n",
       "2    ...                 0             0             0          0          0   \n",
       "3    ...                 1             0             0          0          0   \n",
       "4    ...                 0             0             0          0          1   \n",
       "\n",
       "   habitat_l  habitat_m  habitat_p  habitat_u  habitat_w  \n",
       "0          0          0          0          1          0  \n",
       "1          0          0          0          0          0  \n",
       "2          0          1          0          0          0  \n",
       "3          0          0          0          1          0  \n",
       "4          0          0          0          0          0  \n",
       "\n",
       "[5 rows x 117 columns]"
      ]
     },
     "execution_count": 246,
     "metadata": {},
     "output_type": "execute_result"
    }
   ],
   "source": [
    "X_mush.head()"
   ]
  },
  {
   "cell_type": "code",
   "execution_count": 247,
   "metadata": {},
   "outputs": [
    {
     "data": {
      "text/plain": [
       "0    1\n",
       "1    0\n",
       "2    0\n",
       "3    1\n",
       "4    0\n",
       "Name: class_p, dtype: uint8"
      ]
     },
     "execution_count": 247,
     "metadata": {},
     "output_type": "execute_result"
    }
   ],
   "source": [
    "y_mush.head()"
   ]
  },
  {
   "cell_type": "code",
   "execution_count": 4,
   "metadata": {},
   "outputs": [
    {
     "data": {
      "text/plain": [
       "Index(['cap-shape_b', 'cap-shape_c', 'cap-shape_f', 'cap-shape_k',\n",
       "       'cap-shape_s', 'cap-shape_x', 'cap-surface_f', 'cap-surface_g',\n",
       "       'cap-surface_s', 'cap-surface_y',\n",
       "       ...\n",
       "       'population_s', 'population_v', 'population_y', 'habitat_d',\n",
       "       'habitat_g', 'habitat_l', 'habitat_m', 'habitat_p', 'habitat_u',\n",
       "       'habitat_w'],\n",
       "      dtype='object', length=117)"
      ]
     },
     "execution_count": 4,
     "metadata": {},
     "output_type": "execute_result"
    }
   ],
   "source": [
    "X_train22.columns"
   ]
  },
  {
   "cell_type": "code",
   "execution_count": 16,
   "metadata": {},
   "outputs": [],
   "source": [
    "#Using X_train2 and y_train2,train a DecisionTreeClassifier with default parameters and random_state=0. \n",
    "#for this section I want to determine the 5 most important features found by the decision tree\n",
    "def answer_five():\n",
    "    from sklearn.tree import DecisionTreeClassifier\n",
    "    from sklearn.model_selection import train_test_split\n",
    "    X_train22, X_test22, y_train22, y_test22 = train_test_split(X_mush, y_mush, random_state=0)\n",
    "    clf = DecisionTreeClassifier().fit(X_train22, y_train22)\n",
    "    p=sorted(clf.feature_importances_)\n",
    "    \n",
    "    for i in range(117):\n",
    "        it =(clf.feature_importances_[i],X_train22.columns[i])\n",
    "        \n",
    "        if clf.feature_importances_[i] >0:\n",
    "            new = X_train22.columns[i]\n",
    "            print(new)\n",
    "        \n",
    "    \n",
    "    \n",
    "        \n",
    "      \n"
   ]
  },
  {
   "cell_type": "code",
   "execution_count": 17,
   "metadata": {},
   "outputs": [
    {
     "name": "stdout",
     "output_type": "stream",
     "text": [
      "cap-shape_c\n",
      "cap-surface_g\n",
      "bruises_t\n",
      "odor_a\n",
      "odor_l\n",
      "odor_n\n",
      "gill-size_b\n",
      "stalk-root_c\n",
      "stalk-root_r\n",
      "stalk-surface-below-ring_y\n",
      "ring-number_t\n",
      "ring-type_p\n",
      "spore-print-color_r\n"
     ]
    }
   ],
   "source": [
    "answer_five()"
   ]
  },
  {
   "cell_type": "code",
   "execution_count": null,
   "metadata": {},
   "outputs": [],
   "source": [
    "#Validation curve does 3 fold k cross validation by default. \n",
    "#Helps us see the sensitivity to changes in an important parameter or \n",
    "#what parameter is best to use\n",
    "#the function takes in the name of the classifer, the x and y data sets, \n",
    "#the name of parameter to sweep and an array of values to use for the parameter\n",
    "#the function returns an array - each row corresponds to a value that was swept over\n",
    "#and the number of columns is the number of cross validation folds"
   ]
  },
  {
   "cell_type": "code",
   "execution_count": 411,
   "metadata": {},
   "outputs": [],
   "source": [
    "#For this section, we're going to use the validation_curve function in sklearn.model_selection to determine training and test scores for a Support Vector Classifier (SVC) \n",
    "#with varying parameter values.\n",
    "#I found the mean score across the three models for each level of gamma for both arrays,creating two arrays of length 6, and return a tuple with the two arrays.\n",
    "def answer_six():\n",
    "    from sklearn.svm import SVC\n",
    "    from sklearn.model_selection import validation_curve\n",
    "    clf1 = SVC(kernel = 'rbf',C = 1)\n",
    "    param_range = np.logspace(-4, 1, 6)\n",
    "    train_scores, test_scores = validation_curve(clf1, X_subset, y_subset,param_name='gamma',\n",
    "                                            param_range=param_range, cv=3)\n",
    "    final = (train_scores.mean(axis=1),test_scores.mean(axis=1))\n",
    "\n",
    "    \n",
    "\n",
    "    return final"
   ]
  },
  {
   "cell_type": "code",
   "execution_count": 413,
   "metadata": {},
   "outputs": [
    {
     "data": {
      "text/plain": [
       "(array([0.56647847, 0.93155951, 0.99039881, 1.        , 1.        ,\n",
       "        1.        ]),\n",
       " array([0.56768547, 0.92959558, 0.98965952, 1.        , 0.99507994,\n",
       "        0.52240279]))"
      ]
     },
     "execution_count": 413,
     "metadata": {},
     "output_type": "execute_result"
    }
   ],
   "source": [
    "answer_six()"
   ]
  },
  {
   "cell_type": "code",
   "execution_count": null,
   "metadata": {},
   "outputs": [],
   "source": []
  },
  {
   "cell_type": "code",
   "execution_count": null,
   "metadata": {},
   "outputs": [],
   "source": []
  },
  {
   "cell_type": "code",
   "execution_count": null,
   "metadata": {},
   "outputs": [],
   "source": []
  },
  {
   "cell_type": "code",
   "execution_count": null,
   "metadata": {},
   "outputs": [],
   "source": []
  },
  {
   "cell_type": "code",
   "execution_count": null,
   "metadata": {},
   "outputs": [],
   "source": []
  },
  {
   "cell_type": "code",
   "execution_count": null,
   "metadata": {},
   "outputs": [],
   "source": [
    "\n",
    "\n",
    "    "
   ]
  },
  {
   "cell_type": "code",
   "execution_count": null,
   "metadata": {},
   "outputs": [],
   "source": [
    "\n"
   ]
  },
  {
   "cell_type": "code",
   "execution_count": null,
   "metadata": {},
   "outputs": [],
   "source": []
  }
 ],
 "metadata": {
  "kernelspec": {
   "display_name": "Python 3",
   "language": "python",
   "name": "python3"
  },
  "language_info": {
   "codemirror_mode": {
    "name": "ipython",
    "version": 3
   },
   "file_extension": ".py",
   "mimetype": "text/x-python",
   "name": "python",
   "nbconvert_exporter": "python",
   "pygments_lexer": "ipython3",
   "version": "3.6.5"
  }
 },
 "nbformat": 4,
 "nbformat_minor": 2
}
